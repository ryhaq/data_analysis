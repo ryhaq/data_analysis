{
 "cells": [
  {
   "cell_type": "markdown",
   "id": "e9024f25",
   "metadata": {},
   "source": [
    "# Analysis of Deaths in 2004"
   ]
  },
  {
   "cell_type": "markdown",
   "id": "e10fd84a",
   "metadata": {},
   "source": [
    "In this project, I used data taken from the Office for National Statistics to analyse the deaths recorded in England and Wales in 2004"
   ]
  },
  {
   "cell_type": "code",
   "execution_count": 1,
   "id": "6fb57368",
   "metadata": {},
   "outputs": [],
   "source": [
    "import numpy as np\n",
    "import pandas as pd\n",
    "import matplotlib.pyplot as plt"
   ]
  },
  {
   "cell_type": "code",
   "execution_count": 3,
   "id": "5f8f5bb8",
   "metadata": {},
   "outputs": [],
   "source": [
    "df = pd.read_csv(filepath)"
   ]
  },
  {
   "cell_type": "code",
   "execution_count": 4,
   "id": "052892e5",
   "metadata": {},
   "outputs": [
    {
     "data": {
      "text/html": [
       "<div>\n",
       "<style scoped>\n",
       "    .dataframe tbody tr th:only-of-type {\n",
       "        vertical-align: middle;\n",
       "    }\n",
       "\n",
       "    .dataframe tbody tr th {\n",
       "        vertical-align: top;\n",
       "    }\n",
       "\n",
       "    .dataframe thead th {\n",
       "        text-align: right;\n",
       "    }\n",
       "</style>\n",
       "<table border=\"1\" class=\"dataframe\">\n",
       "  <thead>\n",
       "    <tr style=\"text-align: right;\">\n",
       "      <th></th>\n",
       "      <th>ICD-10</th>\n",
       "      <th>Sex</th>\n",
       "      <th>Age</th>\n",
       "      <th>Number of deaths</th>\n",
       "    </tr>\n",
       "  </thead>\n",
       "  <tbody>\n",
       "    <tr>\n",
       "      <th>0</th>\n",
       "      <td>NaN</td>\n",
       "      <td>1</td>\n",
       "      <td>Neonates</td>\n",
       "      <td>1,249</td>\n",
       "    </tr>\n",
       "    <tr>\n",
       "      <th>1</th>\n",
       "      <td>NaN</td>\n",
       "      <td>2</td>\n",
       "      <td>Neonates</td>\n",
       "      <td>990</td>\n",
       "    </tr>\n",
       "    <tr>\n",
       "      <th>2</th>\n",
       "      <td>A021</td>\n",
       "      <td>2</td>\n",
       "      <td>&lt;1</td>\n",
       "      <td>1</td>\n",
       "    </tr>\n",
       "    <tr>\n",
       "      <th>3</th>\n",
       "      <td>A080</td>\n",
       "      <td>1</td>\n",
       "      <td>&lt;1</td>\n",
       "      <td>1</td>\n",
       "    </tr>\n",
       "    <tr>\n",
       "      <th>4</th>\n",
       "      <td>A080</td>\n",
       "      <td>2</td>\n",
       "      <td>&lt;1</td>\n",
       "      <td>1</td>\n",
       "    </tr>\n",
       "    <tr>\n",
       "      <th>...</th>\n",
       "      <td>...</td>\n",
       "      <td>...</td>\n",
       "      <td>...</td>\n",
       "      <td>...</td>\n",
       "    </tr>\n",
       "    <tr>\n",
       "      <th>20949</th>\n",
       "      <td>Y848</td>\n",
       "      <td>1</td>\n",
       "      <td>85+</td>\n",
       "      <td>2</td>\n",
       "    </tr>\n",
       "    <tr>\n",
       "      <th>20950</th>\n",
       "      <td>Y848</td>\n",
       "      <td>2</td>\n",
       "      <td>85+</td>\n",
       "      <td>1</td>\n",
       "    </tr>\n",
       "    <tr>\n",
       "      <th>20951</th>\n",
       "      <td>Y86</td>\n",
       "      <td>1</td>\n",
       "      <td>85+</td>\n",
       "      <td>1</td>\n",
       "    </tr>\n",
       "    <tr>\n",
       "      <th>20952</th>\n",
       "      <td>Y86</td>\n",
       "      <td>2</td>\n",
       "      <td>85+</td>\n",
       "      <td>3</td>\n",
       "    </tr>\n",
       "    <tr>\n",
       "      <th>20953</th>\n",
       "      <td>Y891</td>\n",
       "      <td>1</td>\n",
       "      <td>85+</td>\n",
       "      <td>1</td>\n",
       "    </tr>\n",
       "  </tbody>\n",
       "</table>\n",
       "<p>20954 rows × 4 columns</p>\n",
       "</div>"
      ],
      "text/plain": [
       "      ICD-10  Sex       Age Number of deaths\n",
       "0        NaN    1  Neonates            1,249\n",
       "1        NaN    2  Neonates              990\n",
       "2       A021    2        <1                1\n",
       "3       A080    1        <1                1\n",
       "4       A080    2        <1                1\n",
       "...      ...  ...       ...              ...\n",
       "20949   Y848    1       85+                2\n",
       "20950   Y848    2       85+                1\n",
       "20951    Y86    1       85+                1\n",
       "20952    Y86    2       85+                3\n",
       "20953   Y891    1       85+                1\n",
       "\n",
       "[20954 rows x 4 columns]"
      ]
     },
     "execution_count": 4,
     "metadata": {},
     "output_type": "execute_result"
    }
   ],
   "source": [
    "df"
   ]
  },
  {
   "cell_type": "markdown",
   "id": "41867d5c",
   "metadata": {},
   "source": [
    "ICD-10 is the International Classification of Diseases,Tenth Revision and it indicates the cause of death.\n",
    "\n",
    "Sex is categorised as 1 being Male and 2 being Female\n"
   ]
  },
  {
   "cell_type": "markdown",
   "id": "55d23e45",
   "metadata": {},
   "source": [
    "### Cleaning Data"
   ]
  },
  {
   "cell_type": "markdown",
   "id": "d57509d3",
   "metadata": {},
   "source": [
    "The 'Number of deaths' column has its values as object data types and must be converted into integer data types. In order to do this, the commas will be removed."
   ]
  },
  {
   "cell_type": "code",
   "execution_count": 5,
   "id": "c4918f16",
   "metadata": {},
   "outputs": [],
   "source": [
    "df['Number of deaths'] = df['Number of deaths'].replace(',','', regex=True)"
   ]
  },
  {
   "cell_type": "code",
   "execution_count": 6,
   "id": "ed1d98e7",
   "metadata": {},
   "outputs": [],
   "source": [
    "df['Number of deaths'] = df['Number of deaths'].astype('int')"
   ]
  },
  {
   "cell_type": "code",
   "execution_count": 7,
   "id": "85602db7",
   "metadata": {},
   "outputs": [
    {
     "data": {
      "text/plain": [
       "0        1249\n",
       "1         990\n",
       "2           1\n",
       "3           1\n",
       "4           1\n",
       "         ... \n",
       "20949       2\n",
       "20950       1\n",
       "20951       1\n",
       "20952       3\n",
       "20953       1\n",
       "Name: Number of deaths, Length: 20954, dtype: int64"
      ]
     },
     "execution_count": 7,
     "metadata": {},
     "output_type": "execute_result"
    }
   ],
   "source": [
    "df['Number of deaths']"
   ]
  },
  {
   "cell_type": "markdown",
   "id": "5b491e61",
   "metadata": {},
   "source": [
    "### Most Common Causes of Death for Males"
   ]
  },
  {
   "cell_type": "code",
   "execution_count": 8,
   "id": "5e69fab1",
   "metadata": {},
   "outputs": [],
   "source": [
    "male = df[df['Sex'] == 1]"
   ]
  },
  {
   "cell_type": "code",
   "execution_count": 9,
   "id": "d7be3184",
   "metadata": {},
   "outputs": [
    {
     "data": {
      "text/plain": [
       "19"
      ]
     },
     "execution_count": 9,
     "metadata": {},
     "output_type": "execute_result"
    }
   ],
   "source": [
    "max(male['ICD-10'].value_counts())"
   ]
  },
  {
   "cell_type": "code",
   "execution_count": 10,
   "id": "4da439fc",
   "metadata": {},
   "outputs": [
    {
     "data": {
      "text/plain": [
       "C64     19\n",
       "Y339    19\n",
       "G809    19\n",
       "R99     19\n",
       "G409    19\n",
       "C719    19\n",
       "A419    19\n",
       "Name: ICD-10, dtype: int64"
      ]
     },
     "execution_count": 10,
     "metadata": {},
     "output_type": "execute_result"
    }
   ],
   "source": [
    "male['ICD-10'].value_counts()[male['ICD-10'].value_counts() == 19]"
   ]
  },
  {
   "cell_type": "markdown",
   "id": "b75e80e1",
   "metadata": {},
   "source": [
    "The most common causes for death for men were:\n",
    "\n",
    "C64 - Malignant neoplasm of kidney\n",
    "\n",
    "Y339 - Suicide and Undetermined Injury\n",
    "\n",
    "G809 - Cerebral Palsy\n",
    "\n",
    "R99 - Other ill-defined and unspecified causes of mortality\n",
    "\n",
    "G409 - Epilepsy, unspecified\n",
    "\n",
    "C719 - Malignant neoplasm: Brain, unspecified\n",
    "\n",
    "A419 - Sepsis, unspecified organism"
   ]
  },
  {
   "cell_type": "markdown",
   "id": "fa6c0b0b",
   "metadata": {},
   "source": [
    "### Most Common Causes of Death for Females"
   ]
  },
  {
   "cell_type": "code",
   "execution_count": 11,
   "id": "46172c09",
   "metadata": {},
   "outputs": [],
   "source": [
    "female = df[df['Sex'] == 2]"
   ]
  },
  {
   "cell_type": "code",
   "execution_count": 12,
   "id": "e2af96be",
   "metadata": {},
   "outputs": [
    {
     "data": {
      "text/plain": [
       "19"
      ]
     },
     "execution_count": 12,
     "metadata": {},
     "output_type": "execute_result"
    }
   ],
   "source": [
    "max(female['ICD-10'].value_counts())"
   ]
  },
  {
   "cell_type": "code",
   "execution_count": 13,
   "id": "e132d3ea",
   "metadata": {},
   "outputs": [
    {
     "data": {
      "text/plain": [
       "C719    19\n",
       "I514    19\n",
       "C920    19\n",
       "J189    19\n",
       "A419    19\n",
       "R99     19\n",
       "Name: ICD-10, dtype: int64"
      ]
     },
     "execution_count": 13,
     "metadata": {},
     "output_type": "execute_result"
    }
   ],
   "source": [
    "female['ICD-10'].value_counts()[female['ICD-10'].value_counts() == 19]"
   ]
  },
  {
   "cell_type": "markdown",
   "id": "9faac386",
   "metadata": {},
   "source": [
    "The most common causes of death for women were:\n",
    "\n",
    "C719 - Malignant neoplasm: Brain, unspecified\n",
    "\n",
    "I514 - Myocarditis, unspecified\n",
    "\n",
    "C920 - Acute myeloblastic leukemia\n",
    "\n",
    "J189 - Pneumonia, unspecified organism\n",
    "\n",
    "A419 - Sepsis, unspecified organism\n",
    "\n",
    "R99 - Other ill-defined and unspecified causes of mortality"
   ]
  },
  {
   "cell_type": "markdown",
   "id": "846f4a04",
   "metadata": {},
   "source": [
    "### Graphs"
   ]
  },
  {
   "cell_type": "code",
   "execution_count": 14,
   "id": "2ecdd95f",
   "metadata": {},
   "outputs": [],
   "source": [
    "male_deaths = male.groupby('Age').sum()['Number of deaths'].values"
   ]
  },
  {
   "cell_type": "code",
   "execution_count": 15,
   "id": "7990ebc2",
   "metadata": {},
   "outputs": [],
   "source": [
    "female_deaths = female.groupby('Age').sum()['Number of deaths'].values"
   ]
  },
  {
   "cell_type": "code",
   "execution_count": 16,
   "id": "70f84624",
   "metadata": {},
   "outputs": [],
   "source": [
    "age_groups = male.groupby('Age').sum().index"
   ]
  },
  {
   "cell_type": "code",
   "execution_count": 28,
   "id": "a5266b23",
   "metadata": {},
   "outputs": [
    {
     "data": {
      "image/png": "[encoded data removed]",
      "text/plain": [
       "<Figure size 1152x720 with 1 Axes>"
      ]
     },
     "metadata": {
      "needs_background": "light"
     },
     "output_type": "display_data"
    }
   ],
   "source": [
    "fig, ax = plt.subplots()\n",
    "\n",
    "\n",
    "fig.set_size_inches(16, 10)\n",
    "\n",
    "plt.xticks(rotation=90)\n",
    "\n",
    "\n",
    "\n",
    "ax.bar(age_groups, male_deaths, label='Male')\n",
    "ax.bar(age_groups, female_deaths, bottom=male_deaths, label='Female')\n",
    "\n",
    "\n",
    "ax.legend()\n",
    "ax.set_xlabel('Age Groups')\n",
    "ax.set_ylabel('Deaths')\n",
    "\n",
    "\n",
    "\n",
    "\n",
    "\n",
    "plt.show()"
   ]
  },
  {
   "cell_type": "code",
   "execution_count": 29,
   "id": "00abb674",
   "metadata": {},
   "outputs": [
    {
     "data": {
      "image/png": "[encoded data removed]",
      "text/plain": [
       "<Figure size 1152x720 with 1 Axes>"
      ]
     },
     "metadata": {
      "needs_background": "light"
     },
     "output_type": "display_data"
    }
   ],
   "source": [
    "fig, ax =plt.subplots()\n",
    "\n",
    "plt.xticks(rotation=90)\n",
    "\n",
    "fig.set_size_inches(16, 10)\n",
    "\n",
    "ax.plot(age_groups, male_deaths, label='Male')\n",
    "ax.plot(age_groups, female_deaths, label='Female')\n",
    "ax.plot(age_groups, female_deaths+male_deaths, label='Total')\n",
    "\n",
    "ax.legend()\n",
    "ax.set_xlabel('Age Groups')\n",
    "ax.set_ylabel('Deaths')\n",
    "\n",
    "plt.show()"
   ]
  },
  {
   "cell_type": "markdown",
   "id": "a7217e40",
   "metadata": {},
   "source": [
    "These graphs show that females tend to die later than males as indicated by the greater peak at the older ages, given that the number of males and females in the data are roughly the same:"
   ]
  },
  {
   "cell_type": "code",
   "execution_count": 19,
   "id": "2ec186aa",
   "metadata": {},
   "outputs": [
    {
     "data": {
      "text/plain": [
       "245208"
      ]
     },
     "execution_count": 19,
     "metadata": {},
     "output_type": "execute_result"
    }
   ],
   "source": [
    "male.groupby('Age').sum()['Number of deaths'].sum()"
   ]
  },
  {
   "cell_type": "code",
   "execution_count": 20,
   "id": "11fb1b11",
   "metadata": {},
   "outputs": [
    {
     "data": {
      "text/plain": [
       "269042"
      ]
     },
     "execution_count": 20,
     "metadata": {},
     "output_type": "execute_result"
    }
   ],
   "source": [
    "female.groupby('Age').sum()['Number of deaths'].sum()"
   ]
  },
  {
   "cell_type": "markdown",
   "id": "096c306f",
   "metadata": {},
   "source": [
    "The female graph has a much steeper peak, whereas the male graph has a more gradual increase. This indicates that the age males die is much more varied than that of females."
   ]
  }
 ],
 "metadata": {
  "kernelspec": {
   "display_name": "Python 3 (ipykernel)",
   "language": "python",
   "name": "python3"
  },
  "language_info": {
   "codemirror_mode": {
    "name": "ipython",
    "version": 3
   },
   "file_extension": ".py",
   "mimetype": "text/x-python",
   "name": "python",
   "nbconvert_exporter": "python",
   "pygments_lexer": "ipython3",
   "version": "3.9.12"
  }
 },
 "nbformat": 4,
 "nbformat_minor": 5
}
